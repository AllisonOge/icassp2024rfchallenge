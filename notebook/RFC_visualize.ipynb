{
 "cells": [
  {
   "cell_type": "code",
   "execution_count": 1,
   "metadata": {},
   "outputs": [],
   "source": [
    "%load_ext autoreload\n",
    "%autoreload 2\n",
    "\n",
    "import os\n",
    "os.chdir(globals()['_dh'][0])\n",
    "os.chdir('..')\n",
    "# print(os.path.abspath(os.curdir))"
   ]
  },
  {
   "cell_type": "code",
   "execution_count": 2,
   "metadata": {},
   "outputs": [],
   "source": [
    "from src.torchwavenet import Wave\n",
    "from src.torchdataset import RFMixtureDatasetBase\n",
    "from omegaconf import OmegaConf\n",
    "import torch\n",
    "from torch.utils.data import DataLoader\n",
    "\n",
    "from torchviz import make_dot"
   ]
  },
  {
   "cell_type": "code",
   "execution_count": 3,
   "metadata": {},
   "outputs": [
    {
     "name": "stdout",
     "output_type": "stream",
     "text": [
      "Using device:  cuda\n"
     ]
    }
   ],
   "source": [
    "device = torch.device(\"cuda\" if torch.cuda.is_available() else \"cpu\")\n",
    "print(\"Using device: \", device)"
   ]
  },
  {
   "cell_type": "code",
   "execution_count": 4,
   "metadata": {},
   "outputs": [],
   "source": [
    "dataset = RFMixtureDatasetBase(\n",
    "    root_dir=\"npydataset/Dataset_QPSK_CommSignal2_Mixture\")\n",
    "loader = DataLoader(dataset, batch_size=16, shuffle=True)"
   ]
  },
  {
   "cell_type": "code",
   "execution_count": 5,
   "metadata": {},
   "outputs": [
    {
     "data": {
      "text/plain": [
       "(torch.Size([16, 2, 40960]), torch.Size([16, 2, 40960]))"
      ]
     },
     "execution_count": 5,
     "metadata": {},
     "output_type": "execute_result"
    }
   ],
   "source": [
    "batch = next(iter(loader))\n",
    "batch[\"sample_mix\"].shape, batch[\"sample_soi\"].shape"
   ]
  },
  {
   "cell_type": "code",
   "execution_count": 6,
   "metadata": {},
   "outputs": [
    {
     "data": {
      "text/plain": [
       "Wave(\n",
       "  (input_projection): Conv1d(2, 128, kernel_size=(1,), stride=(1,))\n",
       "  (residual_layers): ModuleList(\n",
       "    (0): ResidualBlock(\n",
       "      (dilated_conv): Conv1d(128, 256, kernel_size=(3,), stride=(1,), padding=(1,))\n",
       "      (output_projection): Conv1d(128, 256, kernel_size=(1,), stride=(1,))\n",
       "    )\n",
       "    (1): ResidualBlock(\n",
       "      (dilated_conv): Conv1d(128, 256, kernel_size=(3,), stride=(1,), padding=(2,), dilation=(2,))\n",
       "      (output_projection): Conv1d(128, 256, kernel_size=(1,), stride=(1,))\n",
       "    )\n",
       "    (2): ResidualBlock(\n",
       "      (dilated_conv): Conv1d(128, 256, kernel_size=(3,), stride=(1,), padding=(4,), dilation=(4,))\n",
       "      (output_projection): Conv1d(128, 256, kernel_size=(1,), stride=(1,))\n",
       "    )\n",
       "    (3): ResidualBlock(\n",
       "      (dilated_conv): Conv1d(128, 256, kernel_size=(3,), stride=(1,), padding=(8,), dilation=(8,))\n",
       "      (output_projection): Conv1d(128, 256, kernel_size=(1,), stride=(1,))\n",
       "    )\n",
       "    (4): ResidualBlock(\n",
       "      (dilated_conv): Conv1d(128, 256, kernel_size=(3,), stride=(1,), padding=(16,), dilation=(16,))\n",
       "      (output_projection): Conv1d(128, 256, kernel_size=(1,), stride=(1,))\n",
       "    )\n",
       "    (5): ResidualBlock(\n",
       "      (dilated_conv): Conv1d(128, 256, kernel_size=(3,), stride=(1,), padding=(32,), dilation=(32,))\n",
       "      (output_projection): Conv1d(128, 256, kernel_size=(1,), stride=(1,))\n",
       "    )\n",
       "    (6): ResidualBlock(\n",
       "      (dilated_conv): Conv1d(128, 256, kernel_size=(3,), stride=(1,), padding=(64,), dilation=(64,))\n",
       "      (output_projection): Conv1d(128, 256, kernel_size=(1,), stride=(1,))\n",
       "    )\n",
       "    (7): ResidualBlock(\n",
       "      (dilated_conv): Conv1d(128, 256, kernel_size=(3,), stride=(1,), padding=(128,), dilation=(128,))\n",
       "      (output_projection): Conv1d(128, 256, kernel_size=(1,), stride=(1,))\n",
       "    )\n",
       "    (8): ResidualBlock(\n",
       "      (dilated_conv): Conv1d(128, 256, kernel_size=(3,), stride=(1,), padding=(256,), dilation=(256,))\n",
       "      (output_projection): Conv1d(128, 256, kernel_size=(1,), stride=(1,))\n",
       "    )\n",
       "    (9): ResidualBlock(\n",
       "      (dilated_conv): Conv1d(128, 256, kernel_size=(3,), stride=(1,), padding=(512,), dilation=(512,))\n",
       "      (output_projection): Conv1d(128, 256, kernel_size=(1,), stride=(1,))\n",
       "    )\n",
       "    (10): ResidualBlock(\n",
       "      (dilated_conv): Conv1d(128, 256, kernel_size=(3,), stride=(1,), padding=(1,))\n",
       "      (output_projection): Conv1d(128, 256, kernel_size=(1,), stride=(1,))\n",
       "    )\n",
       "    (11): ResidualBlock(\n",
       "      (dilated_conv): Conv1d(128, 256, kernel_size=(3,), stride=(1,), padding=(2,), dilation=(2,))\n",
       "      (output_projection): Conv1d(128, 256, kernel_size=(1,), stride=(1,))\n",
       "    )\n",
       "    (12): ResidualBlock(\n",
       "      (dilated_conv): Conv1d(128, 256, kernel_size=(3,), stride=(1,), padding=(4,), dilation=(4,))\n",
       "      (output_projection): Conv1d(128, 256, kernel_size=(1,), stride=(1,))\n",
       "    )\n",
       "    (13): ResidualBlock(\n",
       "      (dilated_conv): Conv1d(128, 256, kernel_size=(3,), stride=(1,), padding=(8,), dilation=(8,))\n",
       "      (output_projection): Conv1d(128, 256, kernel_size=(1,), stride=(1,))\n",
       "    )\n",
       "    (14): ResidualBlock(\n",
       "      (dilated_conv): Conv1d(128, 256, kernel_size=(3,), stride=(1,), padding=(16,), dilation=(16,))\n",
       "      (output_projection): Conv1d(128, 256, kernel_size=(1,), stride=(1,))\n",
       "    )\n",
       "    (15): ResidualBlock(\n",
       "      (dilated_conv): Conv1d(128, 256, kernel_size=(3,), stride=(1,), padding=(32,), dilation=(32,))\n",
       "      (output_projection): Conv1d(128, 256, kernel_size=(1,), stride=(1,))\n",
       "    )\n",
       "    (16): ResidualBlock(\n",
       "      (dilated_conv): Conv1d(128, 256, kernel_size=(3,), stride=(1,), padding=(64,), dilation=(64,))\n",
       "      (output_projection): Conv1d(128, 256, kernel_size=(1,), stride=(1,))\n",
       "    )\n",
       "    (17): ResidualBlock(\n",
       "      (dilated_conv): Conv1d(128, 256, kernel_size=(3,), stride=(1,), padding=(128,), dilation=(128,))\n",
       "      (output_projection): Conv1d(128, 256, kernel_size=(1,), stride=(1,))\n",
       "    )\n",
       "    (18): ResidualBlock(\n",
       "      (dilated_conv): Conv1d(128, 256, kernel_size=(3,), stride=(1,), padding=(256,), dilation=(256,))\n",
       "      (output_projection): Conv1d(128, 256, kernel_size=(1,), stride=(1,))\n",
       "    )\n",
       "    (19): ResidualBlock(\n",
       "      (dilated_conv): Conv1d(128, 256, kernel_size=(3,), stride=(1,), padding=(512,), dilation=(512,))\n",
       "      (output_projection): Conv1d(128, 256, kernel_size=(1,), stride=(1,))\n",
       "    )\n",
       "    (20): ResidualBlock(\n",
       "      (dilated_conv): Conv1d(128, 256, kernel_size=(3,), stride=(1,), padding=(1,))\n",
       "      (output_projection): Conv1d(128, 256, kernel_size=(1,), stride=(1,))\n",
       "    )\n",
       "    (21): ResidualBlock(\n",
       "      (dilated_conv): Conv1d(128, 256, kernel_size=(3,), stride=(1,), padding=(2,), dilation=(2,))\n",
       "      (output_projection): Conv1d(128, 256, kernel_size=(1,), stride=(1,))\n",
       "    )\n",
       "    (22): ResidualBlock(\n",
       "      (dilated_conv): Conv1d(128, 256, kernel_size=(3,), stride=(1,), padding=(4,), dilation=(4,))\n",
       "      (output_projection): Conv1d(128, 256, kernel_size=(1,), stride=(1,))\n",
       "    )\n",
       "    (23): ResidualBlock(\n",
       "      (dilated_conv): Conv1d(128, 256, kernel_size=(3,), stride=(1,), padding=(8,), dilation=(8,))\n",
       "      (output_projection): Conv1d(128, 256, kernel_size=(1,), stride=(1,))\n",
       "    )\n",
       "    (24): ResidualBlock(\n",
       "      (dilated_conv): Conv1d(128, 256, kernel_size=(3,), stride=(1,), padding=(16,), dilation=(16,))\n",
       "      (output_projection): Conv1d(128, 256, kernel_size=(1,), stride=(1,))\n",
       "    )\n",
       "    (25): ResidualBlock(\n",
       "      (dilated_conv): Conv1d(128, 256, kernel_size=(3,), stride=(1,), padding=(32,), dilation=(32,))\n",
       "      (output_projection): Conv1d(128, 256, kernel_size=(1,), stride=(1,))\n",
       "    )\n",
       "    (26): ResidualBlock(\n",
       "      (dilated_conv): Conv1d(128, 256, kernel_size=(3,), stride=(1,), padding=(64,), dilation=(64,))\n",
       "      (output_projection): Conv1d(128, 256, kernel_size=(1,), stride=(1,))\n",
       "    )\n",
       "    (27): ResidualBlock(\n",
       "      (dilated_conv): Conv1d(128, 256, kernel_size=(3,), stride=(1,), padding=(128,), dilation=(128,))\n",
       "      (output_projection): Conv1d(128, 256, kernel_size=(1,), stride=(1,))\n",
       "    )\n",
       "    (28): ResidualBlock(\n",
       "      (dilated_conv): Conv1d(128, 256, kernel_size=(3,), stride=(1,), padding=(256,), dilation=(256,))\n",
       "      (output_projection): Conv1d(128, 256, kernel_size=(1,), stride=(1,))\n",
       "    )\n",
       "    (29): ResidualBlock(\n",
       "      (dilated_conv): Conv1d(128, 256, kernel_size=(3,), stride=(1,), padding=(512,), dilation=(512,))\n",
       "      (output_projection): Conv1d(128, 256, kernel_size=(1,), stride=(1,))\n",
       "    )\n",
       "  )\n",
       "  (skip_projection): Conv1d(128, 128, kernel_size=(1,), stride=(1,))\n",
       "  (output_projection): Conv1d(128, 2, kernel_size=(1,), stride=(1,))\n",
       ")"
      ]
     },
     "execution_count": 6,
     "metadata": {},
     "output_type": "execute_result"
    }
   ],
   "source": [
    "cfg = OmegaConf.load(\"src/configs/wavenet.yml\")\n",
    "model = Wave(cfg.model).to(device)\n",
    "model"
   ]
  },
  {
   "cell_type": "code",
   "execution_count": 7,
   "metadata": {},
   "outputs": [
    {
     "data": {
      "text/plain": [
       "'3.964674 million parameters'"
      ]
     },
     "execution_count": 7,
     "metadata": {},
     "output_type": "execute_result"
    }
   ],
   "source": [
    "str(sum(p.numel() for p in model.parameters()\n",
    "    if p.requires_grad) / 1e6) + \" million parameters\""
   ]
  },
  {
   "cell_type": "code",
   "execution_count": 8,
   "metadata": {},
   "outputs": [
    {
     "ename": "OutOfMemoryError",
     "evalue": "CUDA out of memory. Tried to allocate 320.00 MiB. GPU 0 has a total capacity of 39.39 GiB of which 100.81 MiB is free. Process 25829 has 39.28 GiB memory in use. Of the allocated memory 38.77 GiB is allocated by PyTorch, and 19.88 MiB is reserved by PyTorch but unallocated. If reserved but unallocated memory is large try setting PYTORCH_CUDA_ALLOC_CONF=expandable_segments:True to avoid fragmentation.  See documentation for Memory Management  (https://pytorch.org/docs/stable/notes/cuda.html#environment-variables)",
     "output_type": "error",
     "traceback": [
      "\u001b[0;31m---------------------------------------------------------------------------\u001b[0m",
      "\u001b[0;31mOutOfMemoryError\u001b[0m                          Traceback (most recent call last)",
      "Cell \u001b[0;32mIn[8], line 1\u001b[0m\n\u001b[0;32m----> 1\u001b[0m dot \u001b[38;5;241m=\u001b[39m make_dot(\u001b[43mmodel\u001b[49m\u001b[43m(\u001b[49m\u001b[43mbatch\u001b[49m\u001b[43m[\u001b[49m\u001b[38;5;124;43m\"\u001b[39;49m\u001b[38;5;124;43msample_mix\u001b[39;49m\u001b[38;5;124;43m\"\u001b[39;49m\u001b[43m]\u001b[49m\u001b[38;5;241;43m.\u001b[39;49m\u001b[43mto\u001b[49m\u001b[43m(\u001b[49m\u001b[43mdevice\u001b[49m\u001b[43m)\u001b[49m\u001b[43m)\u001b[49m,\n\u001b[1;32m      2\u001b[0m                params\u001b[38;5;241m=\u001b[39m\u001b[38;5;28mdict\u001b[39m(\u001b[38;5;28mlist\u001b[39m(model\u001b[38;5;241m.\u001b[39mnamed_parameters())))\n",
      "File \u001b[0;32m~/software/miniconda3/envs/rftorch/lib/python3.12/site-packages/torch/nn/modules/module.py:1511\u001b[0m, in \u001b[0;36mModule._wrapped_call_impl\u001b[0;34m(self, *args, **kwargs)\u001b[0m\n\u001b[1;32m   1509\u001b[0m     \u001b[38;5;28;01mreturn\u001b[39;00m \u001b[38;5;28mself\u001b[39m\u001b[38;5;241m.\u001b[39m_compiled_call_impl(\u001b[38;5;241m*\u001b[39margs, \u001b[38;5;241m*\u001b[39m\u001b[38;5;241m*\u001b[39mkwargs)  \u001b[38;5;66;03m# type: ignore[misc]\u001b[39;00m\n\u001b[1;32m   1510\u001b[0m \u001b[38;5;28;01melse\u001b[39;00m:\n\u001b[0;32m-> 1511\u001b[0m     \u001b[38;5;28;01mreturn\u001b[39;00m \u001b[38;5;28;43mself\u001b[39;49m\u001b[38;5;241;43m.\u001b[39;49m\u001b[43m_call_impl\u001b[49m\u001b[43m(\u001b[49m\u001b[38;5;241;43m*\u001b[39;49m\u001b[43margs\u001b[49m\u001b[43m,\u001b[49m\u001b[43m \u001b[49m\u001b[38;5;241;43m*\u001b[39;49m\u001b[38;5;241;43m*\u001b[39;49m\u001b[43mkwargs\u001b[49m\u001b[43m)\u001b[49m\n",
      "File \u001b[0;32m~/software/miniconda3/envs/rftorch/lib/python3.12/site-packages/torch/nn/modules/module.py:1520\u001b[0m, in \u001b[0;36mModule._call_impl\u001b[0;34m(self, *args, **kwargs)\u001b[0m\n\u001b[1;32m   1515\u001b[0m \u001b[38;5;66;03m# If we don't have any hooks, we want to skip the rest of the logic in\u001b[39;00m\n\u001b[1;32m   1516\u001b[0m \u001b[38;5;66;03m# this function, and just call forward.\u001b[39;00m\n\u001b[1;32m   1517\u001b[0m \u001b[38;5;28;01mif\u001b[39;00m \u001b[38;5;129;01mnot\u001b[39;00m (\u001b[38;5;28mself\u001b[39m\u001b[38;5;241m.\u001b[39m_backward_hooks \u001b[38;5;129;01mor\u001b[39;00m \u001b[38;5;28mself\u001b[39m\u001b[38;5;241m.\u001b[39m_backward_pre_hooks \u001b[38;5;129;01mor\u001b[39;00m \u001b[38;5;28mself\u001b[39m\u001b[38;5;241m.\u001b[39m_forward_hooks \u001b[38;5;129;01mor\u001b[39;00m \u001b[38;5;28mself\u001b[39m\u001b[38;5;241m.\u001b[39m_forward_pre_hooks\n\u001b[1;32m   1518\u001b[0m         \u001b[38;5;129;01mor\u001b[39;00m _global_backward_pre_hooks \u001b[38;5;129;01mor\u001b[39;00m _global_backward_hooks\n\u001b[1;32m   1519\u001b[0m         \u001b[38;5;129;01mor\u001b[39;00m _global_forward_hooks \u001b[38;5;129;01mor\u001b[39;00m _global_forward_pre_hooks):\n\u001b[0;32m-> 1520\u001b[0m     \u001b[38;5;28;01mreturn\u001b[39;00m \u001b[43mforward_call\u001b[49m\u001b[43m(\u001b[49m\u001b[38;5;241;43m*\u001b[39;49m\u001b[43margs\u001b[49m\u001b[43m,\u001b[49m\u001b[43m \u001b[49m\u001b[38;5;241;43m*\u001b[39;49m\u001b[38;5;241;43m*\u001b[39;49m\u001b[43mkwargs\u001b[49m\u001b[43m)\u001b[49m\n\u001b[1;32m   1522\u001b[0m \u001b[38;5;28;01mtry\u001b[39;00m:\n\u001b[1;32m   1523\u001b[0m     result \u001b[38;5;241m=\u001b[39m \u001b[38;5;28;01mNone\u001b[39;00m\n",
      "File \u001b[0;32m/data/personal/ohgay/icassp2024rfchallenge/src/torchwavenet.py:75\u001b[0m, in \u001b[0;36mWave.forward\u001b[0;34m(self, input)\u001b[0m\n\u001b[1;32m     73\u001b[0m skip \u001b[38;5;241m=\u001b[39m \u001b[38;5;28;01mNone\u001b[39;00m\n\u001b[1;32m     74\u001b[0m \u001b[38;5;28;01mfor\u001b[39;00m layer \u001b[38;5;129;01min\u001b[39;00m \u001b[38;5;28mself\u001b[39m\u001b[38;5;241m.\u001b[39mresidual_layers:\n\u001b[0;32m---> 75\u001b[0m     x, skip_connection \u001b[38;5;241m=\u001b[39m \u001b[43mlayer\u001b[49m\u001b[43m(\u001b[49m\u001b[43mx\u001b[49m\u001b[43m)\u001b[49m\n\u001b[1;32m     76\u001b[0m     skip \u001b[38;5;241m=\u001b[39m skip_connection \u001b[38;5;28;01mif\u001b[39;00m skip \u001b[38;5;129;01mis\u001b[39;00m \u001b[38;5;28;01mNone\u001b[39;00m \u001b[38;5;28;01melse\u001b[39;00m skip_connection \u001b[38;5;241m+\u001b[39m skip\n\u001b[1;32m     78\u001b[0m x \u001b[38;5;241m=\u001b[39m skip \u001b[38;5;241m/\u001b[39m sqrt(\u001b[38;5;28mlen\u001b[39m(\u001b[38;5;28mself\u001b[39m\u001b[38;5;241m.\u001b[39mresidual_layers))\n",
      "File \u001b[0;32m~/software/miniconda3/envs/rftorch/lib/python3.12/site-packages/torch/nn/modules/module.py:1511\u001b[0m, in \u001b[0;36mModule._wrapped_call_impl\u001b[0;34m(self, *args, **kwargs)\u001b[0m\n\u001b[1;32m   1509\u001b[0m     \u001b[38;5;28;01mreturn\u001b[39;00m \u001b[38;5;28mself\u001b[39m\u001b[38;5;241m.\u001b[39m_compiled_call_impl(\u001b[38;5;241m*\u001b[39margs, \u001b[38;5;241m*\u001b[39m\u001b[38;5;241m*\u001b[39mkwargs)  \u001b[38;5;66;03m# type: ignore[misc]\u001b[39;00m\n\u001b[1;32m   1510\u001b[0m \u001b[38;5;28;01melse\u001b[39;00m:\n\u001b[0;32m-> 1511\u001b[0m     \u001b[38;5;28;01mreturn\u001b[39;00m \u001b[38;5;28;43mself\u001b[39;49m\u001b[38;5;241;43m.\u001b[39;49m\u001b[43m_call_impl\u001b[49m\u001b[43m(\u001b[49m\u001b[38;5;241;43m*\u001b[39;49m\u001b[43margs\u001b[49m\u001b[43m,\u001b[49m\u001b[43m \u001b[49m\u001b[38;5;241;43m*\u001b[39;49m\u001b[38;5;241;43m*\u001b[39;49m\u001b[43mkwargs\u001b[49m\u001b[43m)\u001b[49m\n",
      "File \u001b[0;32m~/software/miniconda3/envs/rftorch/lib/python3.12/site-packages/torch/nn/modules/module.py:1520\u001b[0m, in \u001b[0;36mModule._call_impl\u001b[0;34m(self, *args, **kwargs)\u001b[0m\n\u001b[1;32m   1515\u001b[0m \u001b[38;5;66;03m# If we don't have any hooks, we want to skip the rest of the logic in\u001b[39;00m\n\u001b[1;32m   1516\u001b[0m \u001b[38;5;66;03m# this function, and just call forward.\u001b[39;00m\n\u001b[1;32m   1517\u001b[0m \u001b[38;5;28;01mif\u001b[39;00m \u001b[38;5;129;01mnot\u001b[39;00m (\u001b[38;5;28mself\u001b[39m\u001b[38;5;241m.\u001b[39m_backward_hooks \u001b[38;5;129;01mor\u001b[39;00m \u001b[38;5;28mself\u001b[39m\u001b[38;5;241m.\u001b[39m_backward_pre_hooks \u001b[38;5;129;01mor\u001b[39;00m \u001b[38;5;28mself\u001b[39m\u001b[38;5;241m.\u001b[39m_forward_hooks \u001b[38;5;129;01mor\u001b[39;00m \u001b[38;5;28mself\u001b[39m\u001b[38;5;241m.\u001b[39m_forward_pre_hooks\n\u001b[1;32m   1518\u001b[0m         \u001b[38;5;129;01mor\u001b[39;00m _global_backward_pre_hooks \u001b[38;5;129;01mor\u001b[39;00m _global_backward_hooks\n\u001b[1;32m   1519\u001b[0m         \u001b[38;5;129;01mor\u001b[39;00m _global_forward_hooks \u001b[38;5;129;01mor\u001b[39;00m _global_forward_pre_hooks):\n\u001b[0;32m-> 1520\u001b[0m     \u001b[38;5;28;01mreturn\u001b[39;00m \u001b[43mforward_call\u001b[49m\u001b[43m(\u001b[49m\u001b[38;5;241;43m*\u001b[39;49m\u001b[43margs\u001b[49m\u001b[43m,\u001b[49m\u001b[43m \u001b[49m\u001b[38;5;241;43m*\u001b[39;49m\u001b[38;5;241;43m*\u001b[39;49m\u001b[43mkwargs\u001b[49m\u001b[43m)\u001b[49m\n\u001b[1;32m   1522\u001b[0m \u001b[38;5;28;01mtry\u001b[39;00m:\n\u001b[1;32m   1523\u001b[0m     result \u001b[38;5;241m=\u001b[39m \u001b[38;5;28;01mNone\u001b[39;00m\n",
      "File \u001b[0;32m/data/personal/ohgay/icassp2024rfchallenge/src/torchwavenet.py:47\u001b[0m, in \u001b[0;36mResidualBlock.forward\u001b[0;34m(self, x)\u001b[0m\n\u001b[1;32m     45\u001b[0m y \u001b[38;5;241m=\u001b[39m \u001b[38;5;28mself\u001b[39m\u001b[38;5;241m.\u001b[39moutput_projection(y)\n\u001b[1;32m     46\u001b[0m residual, skip \u001b[38;5;241m=\u001b[39m torch\u001b[38;5;241m.\u001b[39mchunk(y, \u001b[38;5;241m2\u001b[39m, dim\u001b[38;5;241m=\u001b[39m\u001b[38;5;241m1\u001b[39m)\n\u001b[0;32m---> 47\u001b[0m \u001b[38;5;28;01mreturn\u001b[39;00m \u001b[43m(\u001b[49m\u001b[43mx\u001b[49m\u001b[43m \u001b[49m\u001b[38;5;241;43m+\u001b[39;49m\u001b[43m \u001b[49m\u001b[43mresidual\u001b[49m\u001b[43m)\u001b[49m\u001b[43m \u001b[49m\u001b[38;5;241;43m/\u001b[39;49m\u001b[43m \u001b[49m\u001b[43msqrt\u001b[49m\u001b[43m(\u001b[49m\u001b[38;5;241;43m2.0\u001b[39;49m\u001b[43m)\u001b[49m, skip\n",
      "\u001b[0;31mOutOfMemoryError\u001b[0m: CUDA out of memory. Tried to allocate 320.00 MiB. GPU 0 has a total capacity of 39.39 GiB of which 100.81 MiB is free. Process 25829 has 39.28 GiB memory in use. Of the allocated memory 38.77 GiB is allocated by PyTorch, and 19.88 MiB is reserved by PyTorch but unallocated. If reserved but unallocated memory is large try setting PYTORCH_CUDA_ALLOC_CONF=expandable_segments:True to avoid fragmentation.  See documentation for Memory Management  (https://pytorch.org/docs/stable/notes/cuda.html#environment-variables)"
     ]
    }
   ],
   "source": [
    "dot = make_dot(model(batch[\"sample_mix\"].to(device)),\n",
    "               params=dict(list(model.named_parameters())))"
   ]
  },
  {
   "cell_type": "code",
   "execution_count": null,
   "metadata": {},
   "outputs": [
    {
     "name": "stdout",
     "output_type": "stream",
     "text": [
      "\t140574821759120 [label=\"\n",
      " (16, 2, 40960)\" fillcolor=darkolivegreen1]\n"
     ]
    }
   ],
   "source": [
    "for node in dot.body:\n",
    "    print(node)"
   ]
  }
 ],
 "metadata": {
  "kernelspec": {
   "display_name": "rftorch",
   "language": "python",
   "name": "python3"
  },
  "language_info": {
   "codemirror_mode": {
    "name": "ipython",
    "version": 3
   },
   "file_extension": ".py",
   "mimetype": "text/x-python",
   "name": "python",
   "nbconvert_exporter": "python",
   "pygments_lexer": "ipython3",
   "version": "3.12.2"
  },
  "orig_nbformat": 4
 },
 "nbformat": 4,
 "nbformat_minor": 2
}
