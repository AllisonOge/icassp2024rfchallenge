{
 "cells": [
  {
   "cell_type": "code",
   "execution_count": 1,
   "metadata": {},
   "outputs": [],
   "source": [
    "%load_ext autoreload\n",
    "%autoreload 2\n",
    "\n",
    "import os\n",
    "os.chdir(globals()['_dh'][0])\n",
    "os.chdir('..')\n",
    "# print(os.path.abspath(os.curdir))"
   ]
  },
  {
   "cell_type": "code",
   "execution_count": 2,
   "metadata": {},
   "outputs": [],
   "source": [
    "from src.torchwavenet import Wave\n",
    "from src.torchdataset import RFMixtureDatasetBase\n",
    "from omegaconf import OmegaConf\n",
    "import torch\n",
    "from torch.utils.data import DataLoader\n",
    "import numpy as np\n",
    "\n",
    "from torchsummary import summary\n",
    "import  matplotlib.pyplot as plt\n",
    "from scipy.stats import binned_statistic"
   ]
  },
  {
   "cell_type": "code",
   "execution_count": 3,
   "metadata": {},
   "outputs": [
    {
     "name": "stdout",
     "output_type": "stream",
     "text": [
      "Using device:  cuda\n"
     ]
    }
   ],
   "source": [
    "device = torch.device(\"cuda\" if torch.cuda.is_available() else \"cpu\")\n",
    "print(\"Using device: \", device)"
   ]
  },
  {
   "cell_type": "code",
   "execution_count": 4,
   "metadata": {},
   "outputs": [],
   "source": [
    "soi_type = \"QPSK\"\n",
    "interference_type = \"CommSignal2\"\n",
    "dataset = RFMixtureDatasetBase(\n",
    "    root_dir=f\"npydataset/Dataset_{soi_type}_{interference_type}_Mixture\")\n",
    "loader = DataLoader(dataset, batch_size=1, shuffle=True)"
   ]
  },
  {
   "cell_type": "code",
   "execution_count": 5,
   "metadata": {},
   "outputs": [
    {
     "data": {
      "text/plain": [
       "(torch.Size([1, 2, 40960]), torch.Size([1, 2, 40960]), torch.Size([1, 2]))"
      ]
     },
     "execution_count": 5,
     "metadata": {},
     "output_type": "execute_result"
    }
   ],
   "source": [
    "batch = next(iter(loader))\n",
    "batch[\"sample_mix\"].shape, batch[\"sample_soi\"].shape, batch[\"sample_metadata\"].shape"
   ]
  },
  {
   "cell_type": "code",
   "execution_count": 6,
   "metadata": {},
   "outputs": [
    {
     "name": "stdout",
     "output_type": "stream",
     "text": [
      "----------------------------------------------------------------\n",
      "        Layer (type)               Output Shape         Param #\n",
      "================================================================\n",
      "            Conv1d-1           [-1, 128, 40960]             384\n",
      "            Conv1d-2           [-1, 256, 40960]          98,560\n",
      "            Conv1d-3           [-1, 256, 40960]          33,024\n",
      "     ResidualBlock-4  [[-1, 128, 40960], [-1, 128, 40960]]               0\n",
      "            Conv1d-5           [-1, 256, 40960]          98,560\n",
      "            Conv1d-6           [-1, 256, 40960]          33,024\n",
      "     ResidualBlock-7  [[-1, 128, 40960], [-1, 128, 40960]]               0\n",
      "            Conv1d-8           [-1, 256, 40960]          98,560\n",
      "            Conv1d-9           [-1, 256, 40960]          33,024\n",
      "    ResidualBlock-10  [[-1, 128, 40960], [-1, 128, 40960]]               0\n",
      "           Conv1d-11           [-1, 256, 40960]          98,560\n",
      "           Conv1d-12           [-1, 256, 40960]          33,024\n",
      "    ResidualBlock-13  [[-1, 128, 40960], [-1, 128, 40960]]               0\n",
      "           Conv1d-14           [-1, 256, 40960]          98,560\n",
      "           Conv1d-15           [-1, 256, 40960]          33,024\n",
      "    ResidualBlock-16  [[-1, 128, 40960], [-1, 128, 40960]]               0\n",
      "           Conv1d-17           [-1, 256, 40960]          98,560\n",
      "           Conv1d-18           [-1, 256, 40960]          33,024\n",
      "    ResidualBlock-19  [[-1, 128, 40960], [-1, 128, 40960]]               0\n",
      "           Conv1d-20           [-1, 256, 40960]          98,560\n",
      "           Conv1d-21           [-1, 256, 40960]          33,024\n",
      "    ResidualBlock-22  [[-1, 128, 40960], [-1, 128, 40960]]               0\n",
      "           Conv1d-23           [-1, 256, 40960]          98,560\n",
      "           Conv1d-24           [-1, 256, 40960]          33,024\n",
      "    ResidualBlock-25  [[-1, 128, 40960], [-1, 128, 40960]]               0\n",
      "           Conv1d-26           [-1, 256, 40960]          98,560\n",
      "           Conv1d-27           [-1, 256, 40960]          33,024\n",
      "    ResidualBlock-28  [[-1, 128, 40960], [-1, 128, 40960]]               0\n",
      "           Conv1d-29           [-1, 256, 40960]          98,560\n",
      "           Conv1d-30           [-1, 256, 40960]          33,024\n",
      "    ResidualBlock-31  [[-1, 128, 40960], [-1, 128, 40960]]               0\n",
      "           Conv1d-32           [-1, 256, 40960]          98,560\n",
      "           Conv1d-33           [-1, 256, 40960]          33,024\n",
      "    ResidualBlock-34  [[-1, 128, 40960], [-1, 128, 40960]]               0\n",
      "           Conv1d-35           [-1, 256, 40960]          98,560\n",
      "           Conv1d-36           [-1, 256, 40960]          33,024\n",
      "    ResidualBlock-37  [[-1, 128, 40960], [-1, 128, 40960]]               0\n",
      "           Conv1d-38           [-1, 256, 40960]          98,560\n",
      "           Conv1d-39           [-1, 256, 40960]          33,024\n",
      "    ResidualBlock-40  [[-1, 128, 40960], [-1, 128, 40960]]               0\n",
      "           Conv1d-41           [-1, 256, 40960]          98,560\n",
      "           Conv1d-42           [-1, 256, 40960]          33,024\n",
      "    ResidualBlock-43  [[-1, 128, 40960], [-1, 128, 40960]]               0\n",
      "           Conv1d-44           [-1, 256, 40960]          98,560\n",
      "           Conv1d-45           [-1, 256, 40960]          33,024\n",
      "    ResidualBlock-46  [[-1, 128, 40960], [-1, 128, 40960]]               0\n",
      "           Conv1d-47           [-1, 256, 40960]          98,560\n",
      "           Conv1d-48           [-1, 256, 40960]          33,024\n",
      "    ResidualBlock-49  [[-1, 128, 40960], [-1, 128, 40960]]               0\n",
      "           Conv1d-50           [-1, 256, 40960]          98,560\n",
      "           Conv1d-51           [-1, 256, 40960]          33,024\n",
      "    ResidualBlock-52  [[-1, 128, 40960], [-1, 128, 40960]]               0\n",
      "           Conv1d-53           [-1, 256, 40960]          98,560\n",
      "           Conv1d-54           [-1, 256, 40960]          33,024\n",
      "    ResidualBlock-55  [[-1, 128, 40960], [-1, 128, 40960]]               0\n",
      "           Conv1d-56           [-1, 256, 40960]          98,560\n",
      "           Conv1d-57           [-1, 256, 40960]          33,024\n",
      "    ResidualBlock-58  [[-1, 128, 40960], [-1, 128, 40960]]               0\n",
      "           Conv1d-59           [-1, 256, 40960]          98,560\n",
      "           Conv1d-60           [-1, 256, 40960]          33,024\n",
      "    ResidualBlock-61  [[-1, 128, 40960], [-1, 128, 40960]]               0\n",
      "           Conv1d-62           [-1, 256, 40960]          98,560\n",
      "           Conv1d-63           [-1, 256, 40960]          33,024\n",
      "    ResidualBlock-64  [[-1, 128, 40960], [-1, 128, 40960]]               0\n",
      "           Conv1d-65           [-1, 256, 40960]          98,560\n",
      "           Conv1d-66           [-1, 256, 40960]          33,024\n",
      "    ResidualBlock-67  [[-1, 128, 40960], [-1, 128, 40960]]               0\n",
      "           Conv1d-68           [-1, 256, 40960]          98,560\n",
      "           Conv1d-69           [-1, 256, 40960]          33,024\n",
      "    ResidualBlock-70  [[-1, 128, 40960], [-1, 128, 40960]]               0\n",
      "           Conv1d-71           [-1, 256, 40960]          98,560\n",
      "           Conv1d-72           [-1, 256, 40960]          33,024\n",
      "    ResidualBlock-73  [[-1, 128, 40960], [-1, 128, 40960]]               0\n",
      "           Conv1d-74           [-1, 256, 40960]          98,560\n",
      "           Conv1d-75           [-1, 256, 40960]          33,024\n",
      "    ResidualBlock-76  [[-1, 128, 40960], [-1, 128, 40960]]               0\n",
      "           Conv1d-77           [-1, 256, 40960]          98,560\n",
      "           Conv1d-78           [-1, 256, 40960]          33,024\n",
      "    ResidualBlock-79  [[-1, 128, 40960], [-1, 128, 40960]]               0\n",
      "           Conv1d-80           [-1, 256, 40960]          98,560\n",
      "           Conv1d-81           [-1, 256, 40960]          33,024\n",
      "    ResidualBlock-82  [[-1, 128, 40960], [-1, 128, 40960]]               0\n",
      "           Conv1d-83           [-1, 256, 40960]          98,560\n",
      "           Conv1d-84           [-1, 256, 40960]          33,024\n",
      "    ResidualBlock-85  [[-1, 128, 40960], [-1, 128, 40960]]               0\n",
      "           Conv1d-86           [-1, 256, 40960]          98,560\n",
      "           Conv1d-87           [-1, 256, 40960]          33,024\n",
      "    ResidualBlock-88  [[-1, 128, 40960], [-1, 128, 40960]]               0\n",
      "           Conv1d-89           [-1, 256, 40960]          98,560\n",
      "           Conv1d-90           [-1, 256, 40960]          33,024\n",
      "    ResidualBlock-91  [[-1, 128, 40960], [-1, 128, 40960]]               0\n",
      "           Conv1d-92           [-1, 128, 40960]          16,512\n",
      "           Conv1d-93             [-1, 2, 40960]             258\n",
      "================================================================\n",
      "Total params: 3,964,674\n",
      "Trainable params: 3,964,674\n",
      "Non-trainable params: 0\n",
      "----------------------------------------------------------------\n",
      "Input size (MB): 0.31\n",
      "Forward/backward pass size (MB): 6291451119.38\n",
      "Params size (MB): 15.12\n",
      "Estimated Total Size (MB): 6291451134.81\n",
      "----------------------------------------------------------------\n"
     ]
    }
   ],
   "source": [
    "cfg = OmegaConf.load(\"src/configs/wavenet.yml\")\n",
    "model = Wave(cfg.model).to(device)\n",
    "summary(model, input_size=batch[\"sample_mix\"].shape[1:])"
   ]
  },
  {
   "cell_type": "code",
   "execution_count": 7,
   "metadata": {},
   "outputs": [
    {
     "name": "stdout",
     "output_type": "stream",
     "text": [
      "dict_keys(['step', 'model', 'optimizer', 'cfg', 'scaler'])\n"
     ]
    },
    {
     "data": {
      "text/plain": [
       "<All keys matched successfully>"
      ]
     },
     "execution_count": 7,
     "metadata": {},
     "output_type": "execute_result"
    }
   ],
   "source": [
    "# load weights\n",
    "loaded_model = torch.load(\n",
    "    \"torchmodels/dataset_qpsk_commsignal2_mixture_wavenet/weights-206000.pt\")\n",
    "# loaded_model = torch.load(\"torchmodels/dataset_qpsk_commsignal2_mixture_wavenet/weights.pt\")\n",
    "print(loaded_model.keys())\n",
    "model.load_state_dict(loaded_model[\"model\"])"
   ]
  },
  {
   "cell_type": "code",
   "execution_count": 8,
   "metadata": {},
   "outputs": [
    {
     "data": {
      "text/plain": [
       "((1000, 2, 40960), (1000, 2), (1000, 2, 40960), (1000, 2, 40960))"
      ]
     },
     "execution_count": 8,
     "metadata": {},
     "output_type": "execute_result"
    }
   ],
   "source": [
    "model.eval()\n",
    "\n",
    "sinr_all = []\n",
    "soi_target = []\n",
    "soi_no_mitigation = []\n",
    "soi_est = []\n",
    "\n",
    "for i, batch in enumerate(loader):\n",
    "    # if i == 3:\n",
    "    #     break\n",
    "    sample_mix = batch[\"sample_mix\"].to(device)\n",
    "\n",
    "    sample_soi_hat = model(sample_mix)\n",
    "\n",
    "    soi_target.extend(batch[\"sample_soi\"].numpy())\n",
    "    sinr_all.extend(batch[\"sample_metadata\"].numpy())\n",
    "    soi_no_mitigation.extend(sample_mix.cpu().detach().numpy())\n",
    "    soi_est.extend(sample_soi_hat.cpu().detach().numpy())\n",
    "\n",
    "soi_target = np.array(soi_target)\n",
    "sinr_all = np.array(sinr_all)\n",
    "soi_no_mitigation = np.array(soi_no_mitigation)\n",
    "soi_est = np.array(soi_est)\n",
    "soi_target.shape, sinr_all.shape, soi_no_mitigation.shape, soi_est.shape"
   ]
  },
  {
   "cell_type": "code",
   "execution_count": 9,
   "metadata": {},
   "outputs": [
    {
     "name": "stderr",
     "output_type": "stream",
     "text": [
      "2024-03-30 20:18:47.951043: E external/local_xla/xla/stream_executor/cuda/cuda_dnn.cc:9261] Unable to register cuDNN factory: Attempting to register factory for plugin cuDNN when one has already been registered\n",
      "2024-03-30 20:18:47.951106: E external/local_xla/xla/stream_executor/cuda/cuda_fft.cc:607] Unable to register cuFFT factory: Attempting to register factory for plugin cuFFT when one has already been registered\n",
      "2024-03-30 20:18:47.952051: E external/local_xla/xla/stream_executor/cuda/cuda_blas.cc:1515] Unable to register cuBLAS factory: Attempting to register factory for plugin cuBLAS when one has already been registered\n",
      "2024-03-30 20:18:47.957220: I tensorflow/core/platform/cpu_feature_guard.cc:182] This TensorFlow binary is optimized to use available CPU instructions in performance-critical operations.\n",
      "To enable the following instructions: AVX2 FMA, in other operations, rebuild TensorFlow with the appropriate compiler flags.\n",
      "2024-03-30 20:18:49.646599: I tensorflow/core/common_runtime/gpu/gpu_device.cc:1929] Created device /job:localhost/replica:0/task:0/device:GPU:0 with 32714 MB memory:  -> device: 0, name: NVIDIA A100-PCIE-40GB, pci bus id: 0000:81:00.0, compute capability: 8.0\n"
     ]
    }
   ],
   "source": [
    "import rfcutils"
   ]
  },
  {
   "cell_type": "code",
   "execution_count": 10,
   "metadata": {},
   "outputs": [
    {
     "name": "stdout",
     "output_type": "stream",
     "text": [
      "(1000, 40960) (1000, 40960) (1000, 40960)\n"
     ]
    },
    {
     "name": "stderr",
     "output_type": "stream",
     "text": [
      "2024-03-30 20:18:50.221811: I external/local_tsl/tsl/platform/default/subprocess.cc:304] Start cannot spawn child process: No such file or directory\n",
      "2024-03-30 20:18:50.680009: I external/local_xla/xla/stream_executor/cuda/cuda_dnn.cc:454] Loaded cuDNN version 8902\n",
      "2024-03-30 20:18:50.742661: I external/local_tsl/tsl/platform/default/subprocess.cc:304] Start cannot spawn child process: No such file or directory\n"
     ]
    }
   ],
   "source": [
    "# we have a stacked tensor along the second axis for the real and imaginary parts\n",
    "soi_no_mitigation = soi_no_mitigation[:,\n",
    "                                      0, :] + 1j * soi_no_mitigation[:, 1, :]\n",
    "soi_target = soi_target[:, 0, :] + 1j * soi_target[:, 1, :]\n",
    "soi_est = soi_est[:, 0, :] + 1j * soi_est[:, 1, :]\n",
    "print(soi_target.shape, soi_no_mitigation.shape, soi_est.shape)\n",
    "bit_demod, _ = rfcutils.qpsk_matched_filter_demod(soi_target)\n",
    "bit_no_mitigation, _ = rfcutils.qpsk_matched_filter_demod(soi_no_mitigation)\n",
    "bit_est, _ = rfcutils.qpsk_matched_filter_demod(soi_est)"
   ]
  },
  {
   "cell_type": "code",
   "execution_count": 11,
   "metadata": {},
   "outputs": [],
   "source": [
    "get_db = lambda p: 10*np.log10(p)\n",
    "get_pow = lambda s: np.mean(np.abs(s)**2, axis=-1)\n",
    "get_sinr = lambda s, i: get_pow(s)/get_pow(i)\n",
    "get_sinr_db = lambda s, i: get_db(get_sinr(s,i))"
   ]
  },
  {
   "cell_type": "code",
   "execution_count": 12,
   "metadata": {},
   "outputs": [
    {
     "name": "stderr",
     "output_type": "stream",
     "text": [
      "/tmp/ipykernel_41754/3838547670.py:1: RuntimeWarning: divide by zero encountered in log10\n",
      "  get_db = lambda p: 10*np.log10(p)\n"
     ]
    }
   ],
   "source": [
    "# evaluate the mse\n",
    "mse_no_mitigation = get_db(np.mean(np.abs(bit_demod - bit_no_mitigation)**2, axis=-1))\n",
    "mse_wavenet = get_db(np.mean(np.abs(bit_demod - bit_est)**2, axis=-1))\n"
   ]
  },
  {
   "cell_type": "code",
   "execution_count": 13,
   "metadata": {},
   "outputs": [
    {
     "name": "stdout",
     "output_type": "stream",
     "text": [
      "Examples   BER (No Mitigation)  BER (WaveNet)        SINR      \n",
      "1          0.1490234435         0.0000000000         -11.14    \n",
      "2          0.0000000000         0.0000000000         1.32      \n",
      "3          0.0845703110         0.0000000000         -7.79     \n",
      "4          0.0992187485         0.0000000000         -8.54     \n",
      "5          0.2986328006         0.0000000000         -19.52    \n",
      "7          0.0001953125         0.0000000000         -0.33     \n",
      "8          0.2058593780         0.0000000000         -14.71    \n",
      "10         0.1380859315         0.0000000000         -10.52    \n",
      "11         0.0000000000         0.0000000000         1.92      \n",
      "12         0.0515624993         0.0000000000         -5.25     \n",
      "13         0.3421874940         0.0046875002         -23.21    \n",
      "15         0.0000000000         0.0000000000         0.34      \n",
      "16         0.1501953155         0.0000000000         -11.90    \n",
      "18         0.1041015610         0.0000000000         -8.13     \n",
      "19         0.0380859375         0.0000000000         -3.44     \n",
      "20         0.0005859375         0.0000000000         -0.94     \n",
      "21         0.3695312440         0.0080078123         -24.91    \n",
      "22         0.1021484360         0.0000000000         -8.71     \n",
      "23         0.2335937470         0.0000000000         -15.17    \n",
      "25         0.0490234382         0.0000000000         -4.68     \n",
      "26         0.0509765632         0.0000000000         -4.76     \n",
      "27         0.1748046875         0.0000000000         -12.21    \n",
      "28         0.0998046845         0.0000000000         -8.31     \n",
      "29         0.1978515685         0.0025390624         -12.46    \n",
      "31         0.0533203110         0.0000000000         -5.23     \n",
      "32         0.0718749985         0.0000000000         -7.00     \n",
      "34         0.0218749996         0.0000000000         -3.07     \n",
      "35         0.1398437470         0.0000000000         -10.08    \n",
      "37         0.1150390655         0.0000000000         -9.37     \n",
      "38         0.2417968810         0.0023437501         -15.45    \n"
     ]
    }
   ],
   "source": [
    "# evaluate the bit error rate\n",
    "ber_no_mitigation = np.mean(\n",
    "    bit_no_mitigation != bit_demod, axis=-1).astype(np.float32)\n",
    "ber_wavenet = np.mean(\n",
    "    bit_est != bit_demod, axis=-1).astype(np.float32)\n",
    "print(f\"{'Examples':<10} {'BER (No Mitigation)':<20} {'BER (WaveNet)':<20} {'SINR':<10}\")\n",
    "count = 0\n",
    "for i, (ber1, ber2) in enumerate(zip(ber_no_mitigation, ber_wavenet)):\n",
    "    if ber1 <= 1e-2 or ber2 <= 1e-2:  # only print if the BER is significant\n",
    "        print(f\"{i + 1:<10} {ber1:<20.10f} {ber2:<20.10f} {sinr_all[i][1]:<10.2f}\")\n",
    "        count += 1\n",
    "        if count == 30:\n",
    "            break"
   ]
  },
  {
   "cell_type": "code",
   "execution_count": 14,
   "metadata": {},
   "outputs": [],
   "source": [
    "def get_smoothed(sinr, ber, npoints=50):\n",
    "    bins = np.linspace(sinr.min(), sinr.max(), npoints)\n",
    "    bin_means, bin_edges, _ = binned_statistic(sinr, ber, statistic='mean', bins=bins)\n",
    "    \n",
    "    # To plot the line at the center of the bins, calculate the bin centers\n",
    "    bin_centers = (bin_edges[:-1] + bin_edges[1:]) / 2\n",
    "    \n",
    "    return bin_centers, bin_means\n"
   ]
  },
  {
   "cell_type": "code",
   "execution_count": 17,
   "metadata": {},
   "outputs": [
    {
     "data": {
      "text/plain": [
       "Text(0, 0.5, 'BER')"
      ]
     },
     "execution_count": 17,
     "metadata": {},
     "output_type": "execute_result"
    },
    {
     "data": {
      "image/png": "[encoded data removed]",
      "text/plain": [
       "<Figure size 500x300 with 1 Axes>"
      ]
     },
     "metadata": {},
     "output_type": "display_data"
    },
    {
     "data": {
      "image/png": "[encoded data removed]",
      "text/plain": [
       "<Figure size 500x300 with 1 Axes>"
      ]
     },
     "metadata": {},
     "output_type": "display_data"
    }
   ],
   "source": [
    "plt.figure(figsize=(5, 3))\n",
    "plt.plot(*get_smoothed(sinr_all[:, 1], mse_no_mitigation, 11), \"x--\", label=\"Default_NoMitigation\")\n",
    "plt.plot(*get_smoothed(sinr_all[:, 1], mse_wavenet, 11), \"x--\", label=\"Default_Torch_WaveNet\")\n",
    "plt.grid()\n",
    "plt.legend()\n",
    "plt.title(f\"MSE - {soi_type} + {interference_type}\")\n",
    "plt.xlabel(\"SINR [dB]\")\n",
    "plt.ylabel(\"MSE\")\n",
    "\n",
    "plt.figure(figsize=(5, 3))\n",
    "plt.semilogy(*get_smoothed(sinr_all[:, 1], ber_no_mitigation, 11), \"x--\", label=\"Default_NoMitigation\")\n",
    "plt.semilogy(*get_smoothed(sinr_all[:, 1], ber_wavenet, 11), \"x--\", label=\"Default_Torch_WaveNet\")\n",
    "\n",
    "plt.grid()\n",
    "plt.legend()\n",
    "plt.title(f\"BER - {soi_type} + {interference_type}\")\n",
    "plt.xlabel(\"SINR [dB]\")\n",
    "plt.ylabel(\"BER\")"
   ]
  }
 ],
 "metadata": {
  "kernelspec": {
   "display_name": "rftorch",
   "language": "python",
   "name": "python3"
  },
  "language_info": {
   "codemirror_mode": {
    "name": "ipython",
    "version": 3
   },
   "file_extension": ".py",
   "mimetype": "text/x-python",
   "name": "python",
   "nbconvert_exporter": "python",
   "pygments_lexer": "ipython3",
   "version": "3.11.8"
  },
  "orig_nbformat": 4
 },
 "nbformat": 4,
 "nbformat_minor": 2
}
